{
 "cells": [
  {
   "cell_type": "code",
   "execution_count": 14,
   "metadata": {},
   "outputs": [],
   "source": [
    "import os\n",
    "import numpy as np\n",
    "import cv2\n",
    "import tensorflow as tf\n",
    "from tensorflow.keras.models import Sequential\n",
    "from tensorflow.keras.layers import Conv2D, MaxPooling2D, Flatten, Dense, Dropout\n",
    "from tensorflow.keras.utils import to_categorical\n",
    "from tensorflow.keras.optimizers import Adam\n",
    "from tensorflow.keras.callbacks import EarlyStopping  # 新增导入\n",
    "from sklearn.metrics import classification_report, confusion_matrix\n"
   ]
  },
  {
   "cell_type": "markdown",
   "metadata": {},
   "source": [
    "Read YOLO data & transform"
   ]
  },
  {
   "cell_type": "code",
   "execution_count": 15,
   "metadata": {},
   "outputs": [],
   "source": [
    "# DATA PATH\n",
    "path = r'D:\\NOTEBOOK\\FYP\\final_datasets_changed'\n",
    "train_img_path = os.path.join(path, 'images', 'train')\n",
    "train_lbl_path = os.path.join(path, 'labels', 'train')\n",
    "\n",
    "valid_img_path = os.path.join(path, 'images', 'val')\n",
    "valid_lbl_path = os.path.join(path, 'labels', 'val')\n",
    "\n",
    "test_img_path = os.path.join(path, 'images', 'test')\n",
    "test_lbl_path = os.path.join(path, 'labels', 'test')\n",
    "\n",
    "IMG_SIZE = 128\n",
    "NUM_CLASSES = 4"
   ]
  },
  {
   "cell_type": "code",
   "execution_count": 16,
   "metadata": {},
   "outputs": [],
   "source": [
    "def load_yolo_data(img_dir, lbl_dir):\n",
    "    images, labels = [], []\n",
    "    for img_file in os.listdir(img_dir):\n",
    "        if img_file.lower().endswith(('.jpg', '.jpeg', '.png', '.bmp')):\n",
    "            img_path = os.path.join(img_dir, img_file)\n",
    "            label_path = os.path.join(lbl_dir, img_file.replace('.jpg', '.txt')\n",
    "                                                   .replace('.jpeg', '.txt')\n",
    "                                                   .replace('.png', '.txt')\n",
    "                                                   .replace('.bmp', '.txt'))\n",
    "            \n",
    "            # Read the image\n",
    "            img = cv2.imread(img_path)\n",
    "            if img is None:\n",
    "                print(f\"Skipping: Image {img_file} does not exist or is corrupted\")\n",
    "                continue\n",
    "            img = cv2.resize(img, (IMG_SIZE, IMG_SIZE)) / 255.0\n",
    "            \n",
    "            # Read all objects from the label file\n",
    "            try:\n",
    "                with open(label_path, 'r') as f:\n",
    "                    lines = f.readlines()\n",
    "            except FileNotFoundError:\n",
    "                print(f\"Skipping: Label file {label_path} does not exist\")\n",
    "                continue\n",
    "            \n",
    "            # Process each object (one per line)\n",
    "            for line in lines:\n",
    "                parts = line.strip().split()\n",
    "                if len(parts) < 5:\n",
    "                    print(f\"Warning: Label file {label_path} has an incorrect format (line content: {line})\")\n",
    "                    continue\n",
    "                try:\n",
    "                    cls_id = int(parts[0])\n",
    "                    x_center = float(parts[1])\n",
    "                    y_center = float(parts[2])\n",
    "                    width = float(parts[3])\n",
    "                    height = float(parts[4])\n",
    "                except ValueError:\n",
    "                    print(f\"Warning: Label file {label_path} contains non-numeric values (line content: {line})\")\n",
    "                    continue\n",
    "                \n",
    "                # Check validity of class ID\n",
    "                if cls_id < 0 or cls_id >= NUM_CLASSES:\n",
    "                    print(f\"Warning: Label file {label_path} contains an invalid class ID {cls_id} (valid range: 0-{NUM_CLASSES-1})\")\n",
    "                    continue\n",
    "                \n",
    "                # Treat each object as an independent sample\n",
    "                images.append(img)\n",
    "                one_hot = np.zeros(NUM_CLASSES)\n",
    "                one_hot[cls_id] = 1\n",
    "                labels.append(one_hot)\n",
    "    \n",
    "    return np.array(images), np.array(labels)\n"
   ]
  },
  {
   "cell_type": "code",
   "execution_count": 17,
   "metadata": {},
   "outputs": [
    {
     "name": "stdout",
     "output_type": "stream",
     "text": [
      "TRAIN: [  33 1526  103  124]\n",
      "VAL: [  6 349  15  34]\n",
      "TEST: [ 20 713  45  67]\n"
     ]
    }
   ],
   "source": [
    "# load data\n",
    "X_train, y_train = load_yolo_data(train_img_path, train_lbl_path)\n",
    "X_val, y_val = load_yolo_data(valid_img_path, valid_lbl_path)\n",
    "X_test, y_test = load_yolo_data(test_img_path, test_lbl_path)\n",
    "\n",
    "print(\"TRAIN:\", np.bincount(y_train.argmax(axis=1)))\n",
    "print(\"VAL:\", np.bincount(y_val.argmax(axis=1)))\n",
    "print(\"TEST:\", np.bincount(y_test.argmax(axis=1)))"
   ]
  },
  {
   "cell_type": "markdown",
   "metadata": {},
   "source": [
    "CNN Model"
   ]
  },
  {
   "cell_type": "code",
   "execution_count": 18,
   "metadata": {},
   "outputs": [
    {
     "name": "stderr",
     "output_type": "stream",
     "text": [
      "c:\\Users\\lenovo\\AppData\\Local\\Programs\\Python\\Python312\\Lib\\site-packages\\keras\\src\\layers\\convolutional\\base_conv.py:107: UserWarning: Do not pass an `input_shape`/`input_dim` argument to a layer. When using Sequential models, prefer using an `Input(shape)` object as the first layer in the model instead.\n",
      "  super().__init__(activity_regularizer=activity_regularizer, **kwargs)\n"
     ]
    }
   ],
   "source": [
    "model = Sequential([\n",
    "    Conv2D(32, (3,3), activation='relu', input_shape=(IMG_SIZE, IMG_SIZE, 3)),\n",
    "    MaxPooling2D((2,2)),\n",
    "\n",
    "    Conv2D(64, (3,3), activation='relu'),\n",
    "    MaxPooling2D((2,2)),\n",
    "\n",
    "    Conv2D(128, (3,3), activation='relu'),\n",
    "    MaxPooling2D((2,2)),\n",
    "\n",
    "    Flatten(),\n",
    "    Dense(128, activation='relu'),\n",
    "    Dropout(0.5),\n",
    "    Dense(NUM_CLASSES, activation='softmax')\n",
    "])\n",
    "\n",
    "model.compile(optimizer=Adam(learning_rate=0.01), \n",
    "              loss='categorical_crossentropy',\n",
    "              metrics=['accuracy'])"
   ]
  },
  {
   "cell_type": "code",
   "execution_count": 19,
   "metadata": {},
   "outputs": [
    {
     "name": "stdout",
     "output_type": "stream",
     "text": [
      "Epoch 1/20\n",
      "\u001b[1m56/56\u001b[0m \u001b[32m━━━━━━━━━━━━━━━━━━━━\u001b[0m\u001b[37m\u001b[0m \u001b[1m26s\u001b[0m 356ms/step - accuracy: 0.7566 - loss: 1.8385 - val_accuracy: 0.8639 - val_loss: 0.5334\n",
      "Epoch 2/20\n",
      "\u001b[1m56/56\u001b[0m \u001b[32m━━━━━━━━━━━━━━━━━━━━\u001b[0m\u001b[37m\u001b[0m \u001b[1m19s\u001b[0m 333ms/step - accuracy: 0.8514 - loss: 0.6175 - val_accuracy: 0.8639 - val_loss: 0.5292\n",
      "Epoch 3/20\n",
      "\u001b[1m56/56\u001b[0m \u001b[32m━━━━━━━━━━━━━━━━━━━━\u001b[0m\u001b[37m\u001b[0m \u001b[1m18s\u001b[0m 318ms/step - accuracy: 0.8537 - loss: 0.5910 - val_accuracy: 0.8639 - val_loss: 0.5632\n",
      "Epoch 4/20\n",
      "\u001b[1m56/56\u001b[0m \u001b[32m━━━━━━━━━━━━━━━━━━━━\u001b[0m\u001b[37m\u001b[0m \u001b[1m20s\u001b[0m 355ms/step - accuracy: 0.8476 - loss: 0.6029 - val_accuracy: 0.8639 - val_loss: 0.5372\n",
      "Epoch 5/20\n",
      "\u001b[1m56/56\u001b[0m \u001b[32m━━━━━━━━━━━━━━━━━━━━\u001b[0m\u001b[37m\u001b[0m \u001b[1m18s\u001b[0m 329ms/step - accuracy: 0.8511 - loss: 0.5938 - val_accuracy: 0.8639 - val_loss: 0.5511\n",
      "Epoch 6/20\n",
      "\u001b[1m56/56\u001b[0m \u001b[32m━━━━━━━━━━━━━━━━━━━━\u001b[0m\u001b[37m\u001b[0m \u001b[1m19s\u001b[0m 344ms/step - accuracy: 0.8572 - loss: 0.5857 - val_accuracy: 0.8639 - val_loss: 0.5248\n",
      "Epoch 7/20\n",
      "\u001b[1m56/56\u001b[0m \u001b[32m━━━━━━━━━━━━━━━━━━━━\u001b[0m\u001b[37m\u001b[0m \u001b[1m19s\u001b[0m 330ms/step - accuracy: 0.8538 - loss: 0.5796 - val_accuracy: 0.8639 - val_loss: 0.5379\n",
      "Epoch 8/20\n",
      "\u001b[1m56/56\u001b[0m \u001b[32m━━━━━━━━━━━━━━━━━━━━\u001b[0m\u001b[37m\u001b[0m \u001b[1m19s\u001b[0m 335ms/step - accuracy: 0.8726 - loss: 0.5164 - val_accuracy: 0.8639 - val_loss: 0.5289\n",
      "Epoch 9/20\n",
      "\u001b[1m56/56\u001b[0m \u001b[32m━━━━━━━━━━━━━━━━━━━━\u001b[0m\u001b[37m\u001b[0m \u001b[1m19s\u001b[0m 336ms/step - accuracy: 0.8651 - loss: 0.5310 - val_accuracy: 0.8639 - val_loss: 0.5250\n",
      "Epoch 10/20\n",
      "\u001b[1m56/56\u001b[0m \u001b[32m━━━━━━━━━━━━━━━━━━━━\u001b[0m\u001b[37m\u001b[0m \u001b[1m19s\u001b[0m 329ms/step - accuracy: 0.8473 - loss: 0.5883 - val_accuracy: 0.8639 - val_loss: 0.5228\n",
      "Epoch 11/20\n",
      "\u001b[1m56/56\u001b[0m \u001b[32m━━━━━━━━━━━━━━━━━━━━\u001b[0m\u001b[37m\u001b[0m \u001b[1m19s\u001b[0m 332ms/step - accuracy: 0.8575 - loss: 0.5491 - val_accuracy: 0.8639 - val_loss: 0.5268\n",
      "Epoch 12/20\n",
      "\u001b[1m56/56\u001b[0m \u001b[32m━━━━━━━━━━━━━━━━━━━━\u001b[0m\u001b[37m\u001b[0m \u001b[1m18s\u001b[0m 327ms/step - accuracy: 0.8502 - loss: 0.5808 - val_accuracy: 0.8639 - val_loss: 0.5238\n",
      "Epoch 13/20\n",
      "\u001b[1m56/56\u001b[0m \u001b[32m━━━━━━━━━━━━━━━━━━━━\u001b[0m\u001b[37m\u001b[0m \u001b[1m17s\u001b[0m 303ms/step - accuracy: 0.8624 - loss: 0.5428 - val_accuracy: 0.8639 - val_loss: 0.5290\n",
      "Epoch 14/20\n",
      "\u001b[1m56/56\u001b[0m \u001b[32m━━━━━━━━━━━━━━━━━━━━\u001b[0m\u001b[37m\u001b[0m \u001b[1m17s\u001b[0m 311ms/step - accuracy: 0.8536 - loss: 0.5661 - val_accuracy: 0.8639 - val_loss: 0.5251\n",
      "Epoch 15/20\n",
      "\u001b[1m56/56\u001b[0m \u001b[32m━━━━━━━━━━━━━━━━━━━━\u001b[0m\u001b[37m\u001b[0m \u001b[1m17s\u001b[0m 310ms/step - accuracy: 0.8443 - loss: 0.5817 - val_accuracy: 0.8639 - val_loss: 0.5242\n"
     ]
    },
    {
     "data": {
      "text/plain": [
       "<keras.src.callbacks.history.History at 0x2129a85d700>"
      ]
     },
     "execution_count": 19,
     "metadata": {},
     "output_type": "execute_result"
    }
   ],
   "source": [
    "# EarlyStopping\n",
    "early_stop = EarlyStopping(\n",
    "    monitor='val_loss', \n",
    "    patience=5, \n",
    "    restore_best_weights=True\n",
    ")\n",
    "# train\n",
    "model.fit(\n",
    "    X_train, y_train,\n",
    "    epochs=20,\n",
    "    batch_size=32,\n",
    "    validation_data=(X_val, y_val),\n",
    "    callbacks=[early_stop]  # 添加早停\n",
    ")"
   ]
  },
  {
   "cell_type": "code",
   "execution_count": 20,
   "metadata": {},
   "outputs": [
    {
     "name": "stdout",
     "output_type": "stream",
     "text": [
      "\u001b[1m27/27\u001b[0m \u001b[32m━━━━━━━━━━━━━━━━━━━━\u001b[0m\u001b[37m\u001b[0m \u001b[1m2s\u001b[0m 72ms/step - accuracy: 0.8556 - loss: 0.5463\n",
      "TEST ACC: 0.8438\n"
     ]
    }
   ],
   "source": [
    "# test\n",
    "test_loss, test_acc = model.evaluate(X_test, y_test)\n",
    "print(f\"TEST ACC: {test_acc:.4f}\")"
   ]
  },
  {
   "cell_type": "code",
   "execution_count": 21,
   "metadata": {},
   "outputs": [
    {
     "name": "stdout",
     "output_type": "stream",
     "text": [
      "\u001b[1m27/27\u001b[0m \u001b[32m━━━━━━━━━━━━━━━━━━━━\u001b[0m\u001b[37m\u001b[0m \u001b[1m2s\u001b[0m 75ms/step\n",
      "                   precision    recall  f1-score   support\n",
      "\n",
      "     Large Crater       0.00      0.00      0.00        20\n",
      "     Small Crater       0.84      1.00      0.92       713\n",
      "    Medium Crater       0.00      0.00      0.00        45\n",
      "Incomplete Crater       0.00      0.00      0.00        67\n",
      "\n",
      "         accuracy                           0.84       845\n",
      "        macro avg       0.21      0.25      0.23       845\n",
      "     weighted avg       0.71      0.84      0.77       845\n",
      "\n",
      "Confusion Matrix:\n",
      " [[  0  20   0   0]\n",
      " [  0 713   0   0]\n",
      " [  0  45   0   0]\n",
      " [  0  67   0   0]]\n"
     ]
    },
    {
     "name": "stderr",
     "output_type": "stream",
     "text": [
      "c:\\Users\\lenovo\\AppData\\Local\\Programs\\Python\\Python312\\Lib\\site-packages\\sklearn\\metrics\\_classification.py:1531: UndefinedMetricWarning: Precision is ill-defined and being set to 0.0 in labels with no predicted samples. Use `zero_division` parameter to control this behavior.\n",
      "  _warn_prf(average, modifier, f\"{metric.capitalize()} is\", len(result))\n",
      "c:\\Users\\lenovo\\AppData\\Local\\Programs\\Python\\Python312\\Lib\\site-packages\\sklearn\\metrics\\_classification.py:1531: UndefinedMetricWarning: Precision is ill-defined and being set to 0.0 in labels with no predicted samples. Use `zero_division` parameter to control this behavior.\n",
      "  _warn_prf(average, modifier, f\"{metric.capitalize()} is\", len(result))\n",
      "c:\\Users\\lenovo\\AppData\\Local\\Programs\\Python\\Python312\\Lib\\site-packages\\sklearn\\metrics\\_classification.py:1531: UndefinedMetricWarning: Precision is ill-defined and being set to 0.0 in labels with no predicted samples. Use `zero_division` parameter to control this behavior.\n",
      "  _warn_prf(average, modifier, f\"{metric.capitalize()} is\", len(result))\n"
     ]
    }
   ],
   "source": [
    "# pred\n",
    "y_pred = model.predict(X_test)\n",
    "y_pred_classes = np.argmax(y_pred, axis=1)  # class with the greatest probability\n",
    "y_true_classes = np.argmax(y_test, axis=1)  # true class\n",
    "\n",
    "# classification_report\n",
    "print(classification_report(y_true_classes, y_pred_classes, target_names=[\"Large Crater\", \"Small Crater\", \"Medium Crater\", \"Incomplete Crater\"]))\n",
    "# confusion_matrix\n",
    "conf_matrix = confusion_matrix(y_true_classes, y_pred_classes)\n",
    "print(\"Confusion Matrix:\\n\", conf_matrix)"
   ]
  }
 ],
 "metadata": {
  "kernelspec": {
   "display_name": "Python 3",
   "language": "python",
   "name": "python3"
  },
  "language_info": {
   "codemirror_mode": {
    "name": "ipython",
    "version": 3
   },
   "file_extension": ".py",
   "mimetype": "text/x-python",
   "name": "python",
   "nbconvert_exporter": "python",
   "pygments_lexer": "ipython3",
   "version": "3.12.6"
  }
 },
 "nbformat": 4,
 "nbformat_minor": 2
}
