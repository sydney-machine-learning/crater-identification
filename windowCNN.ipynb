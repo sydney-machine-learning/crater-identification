{
 "cells": [
  {
   "cell_type": "code",
   "execution_count": 2,
   "metadata": {},
   "outputs": [
    {
     "name": "stdout",
     "output_type": "stream",
     "text": [
      "Collecting imutils\n",
      "  Downloading imutils-0.5.4.tar.gz (17 kB)\n",
      "  Preparing metadata (setup.py): started\n",
      "  Preparing metadata (setup.py): finished with status 'done'\n",
      "Building wheels for collected packages: imutils\n",
      "  Building wheel for imutils (setup.py): started\n",
      "  Building wheel for imutils (setup.py): finished with status 'done'\n",
      "  Created wheel for imutils: filename=imutils-0.5.4-py3-none-any.whl size=25857 sha256=7573fe06c8092ee593984ea0524ffa19d565a1bd15f49715b2ed8719cfc9bd7b\n",
      "  Stored in directory: c:\\users\\lenovo\\appdata\\local\\pip\\cache\\wheels\\5b\\76\\96\\ad0c321506837bef578cf3008df3916c23018435a355d9f6b1\n",
      "Successfully built imutils\n",
      "Installing collected packages: imutils\n",
      "Successfully installed imutils-0.5.4\n",
      "Note: you may need to restart the kernel to use updated packages.\n"
     ]
    },
    {
     "name": "stderr",
     "output_type": "stream",
     "text": [
      "\n",
      "[notice] A new release of pip is available: 24.3.1 -> 25.0.1\n",
      "[notice] To update, run: python.exe -m pip install --upgrade pip\n"
     ]
    }
   ],
   "source": [
    "pip install imutils"
   ]
  },
  {
   "cell_type": "code",
   "execution_count": 3,
   "metadata": {},
   "outputs": [],
   "source": [
    "import cv2\n",
    "import numpy as np\n",
    "import tensorflow as tf\n",
    "from tensorflow.keras.models import load_model\n",
    "from imutils.object_detection import non_max_suppression\n",
    "import os"
   ]
  },
  {
   "cell_type": "markdown",
   "metadata": {},
   "source": [
    "WINDOW SLIDE\n",
    "\n",
    "    滑动窗口方法：遍历图像并裁剪小窗口\n",
    "\n",
    "    :param image: 输入图像\n",
    "\n",
    "    :param step_size: 滑动步长\n",
    "\n",
    "    :param window_size: 窗口大小 (height, width)\n",
    "\n",
    "    :return: 生成器，返回窗口坐标 (x, y) 和窗口区域 (ROI)"
   ]
  },
  {
   "cell_type": "code",
   "execution_count": null,
   "metadata": {},
   "outputs": [],
   "source": [
    "def sliding_window(image, step_size, window_size):\n",
    "    for y in range(0, image.shape[0] - window_size[1], step_size):\n",
    "        for x in range(0, image.shape[1] - window_size[0], step_size):\n",
    "            yield (x, y, image[y:y + window_size[1], x + window_size[0]])"
   ]
  },
  {
   "cell_type": "markdown",
   "metadata": {},
   "source": [
    "Load precreated crater_cnn_model"
   ]
  },
  {
   "cell_type": "code",
   "execution_count": null,
   "metadata": {},
   "outputs": [],
   "source": [
    "model = load_model(\"improved_crater_cnn.keras\") "
   ]
  },
  {
   "cell_type": "markdown",
   "metadata": {},
   "source": [
    " Read the image and perform window detection"
   ]
  },
  {
   "cell_type": "code",
   "execution_count": null,
   "metadata": {},
   "outputs": [],
   "source": [
    "image_path = r\"D:\\NOTEBOOK\\FYP\\NASADataset\\1.jpg\"\n",
    "image = cv2.imread(image_path)  # Read the image\n",
    "if image is None:\n",
    "    raise ValueError(\"Failed to load the image, please check the path!\")\n",
    "\n",
    "# Preprocessing\n",
    "image_resized = cv2.resize(image, (512, 512))  # Resize to a uniform size\n",
    "gray = cv2.cvtColor(image_resized, cv2.COLOR_BGR2GRAY)  # Convert to grayscale\n",
    "gray = cv2.cvtColor(gray, cv2.COLOR_GRAY2RGB)  # CNN requires 3-channel input\n",
    "\n",
    "window_size = (64, 64)  # Input size required by the CNN\n",
    "step_size = 32  # Sliding window step size\n",
    "\n",
    "rects = []\n",
    "scores = []\n",
    "# Iterate over all windows and perform CNN prediction\n",
    "for (x, y, window) in sliding_window(gray, step_size, window_size):\n",
    "    if window.shape[0] != window_size[1] or window.shape[1] != window_size[0]:\n",
    "        continue  # Ignore incomplete windows\n",
    "\n",
    "    # Preprocess the window and perform CNN prediction\n",
    "    window = window.astype(\"float32\") / 255.0  # Normalize\n",
    "    window = np.expand_dims(window, axis=0)  # Add batch dimension\n",
    "    \n",
    "    # CNN prediction, returns confidence score\n",
    "    prob = model.predict(window)[0][0]\n",
    "    \n",
    "    if prob > 0.5:  # Set a threshold to filter regions likely containing craters\n",
    "        rects.append((x, y, x + window_size[0], y + window_size[1]))\n",
    "        scores.append(prob)"
   ]
  },
  {
   "cell_type": "markdown",
   "metadata": {},
   "source": [
    "Perform Non-Maximum Suppression (NMS) to merge overlapping windows(OpenCV's)"
   ]
  },
  {
   "cell_type": "code",
   "execution_count": null,
   "metadata": {},
   "outputs": [],
   "source": [
    "rects = np.array(rects)\n",
    "scores = np.array(scores)\n",
    "final_boxes = non_max_suppression(rects, probs=scores, overlapThresh=0.3)"
   ]
  },
  {
   "cell_type": "markdown",
   "metadata": {},
   "source": [
    "Generate YOLO format data: <class_id> <x_center> <y_center> <width> <height>"
   ]
  },
  {
   "cell_type": "code",
   "execution_count": null,
   "metadata": {},
   "outputs": [],
   "source": [
    "yolo_annotations = []\n",
    "for (x1, y1, x2, y2) in final_boxes:\n",
    "    img_h, img_w = image_resized.shape[:2]\n",
    "\n",
    "    # normalized\n",
    "    x_center = (x1 + x2) / 2.0 / img_w\n",
    "    y_center = (y1 + y2) / 2.0 / img_h\n",
    "    box_width = (x2 - x1) / img_w\n",
    "    box_height = (y2 - y1) / img_h\n",
    "\n",
    "    yolo_annotations.append(f\"0 {x_center:.6f} {y_center:.6f} {box_width:.6f} {box_height:.6f}\")\n",
    "\n",
    "# Save\n",
    "output_txt_path = image_path.replace(\".jpg\", \".txt\")\n",
    "with open(output_txt_path, \"w\") as f:\n",
    "    f.write(\"\\n\".join(yolo_annotations))\n",
    "\n",
    "print(f\"YOLO annotation file saved: {output_txt_path}\")"
   ]
  }
 ],
 "metadata": {
  "kernelspec": {
   "display_name": "Python 3",
   "language": "python",
   "name": "python3"
  },
  "language_info": {
   "codemirror_mode": {
    "name": "ipython",
    "version": 3
   },
   "file_extension": ".py",
   "mimetype": "text/x-python",
   "name": "python",
   "nbconvert_exporter": "python",
   "pygments_lexer": "ipython3",
   "version": "3.12.6"
  }
 },
 "nbformat": 4,
 "nbformat_minor": 2
}
